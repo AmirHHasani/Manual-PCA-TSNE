{
 "cells": [
  {
   "cell_type": "code",
   "execution_count": 1,
   "metadata": {},
   "outputs": [],
   "source": [
    "from keras.datasets import mnist\n",
    "import numpy as np\n",
    "import matplotlib.pyplot as plt"
   ]
  },
  {
   "cell_type": "code",
   "execution_count": 2,
   "metadata": {},
   "outputs": [],
   "source": [
    "(train_X, train_y), (test_X, test_y) = mnist.load_data()\n",
    "data = mnist.load_data()"
   ]
  },
  {
   "cell_type": "code",
   "execution_count": 3,
   "metadata": {},
   "outputs": [],
   "source": [
    "train_X = train_X.reshape((60000,28*28))\n",
    "test_X = test_X.reshape((10000,28*28))"
   ]
  },
  {
   "cell_type": "code",
   "execution_count": 4,
   "metadata": {},
   "outputs": [
    {
     "name": "stdout",
     "output_type": "stream",
     "text": [
      "(60000, 784)\n",
      "(10000, 784)\n"
     ]
    }
   ],
   "source": [
    "from sklearn.preprocessing import StandardScaler\n",
    "standardized_data = StandardScaler().fit_transform(train_X)\n",
    "standardized_data2 = StandardScaler().fit_transform(test_X)\n",
    "print(standardized_data.shape)\n",
    "print(standardized_data2.shape)"
   ]
  },
  {
   "cell_type": "code",
   "execution_count": 5,
   "metadata": {},
   "outputs": [],
   "source": [
    "train_data = standardized_data\n",
    "covar_matrix = np.matmul(train_data.T , train_data)"
   ]
  },
  {
   "cell_type": "code",
   "execution_count": 6,
   "metadata": {},
   "outputs": [],
   "source": [
    "from scipy.linalg import eigh"
   ]
  },
  {
   "cell_type": "code",
   "execution_count": 7,
   "metadata": {},
   "outputs": [],
   "source": [
    "values, vectors = eigh(covar_matrix, eigvals=(734,783))"
   ]
  },
  {
   "cell_type": "code",
   "execution_count": 8,
   "metadata": {},
   "outputs": [
    {
     "name": "stdout",
     "output_type": "stream",
     "text": [
      "Shape of eigen vectors =  (784, 50)\n"
     ]
    }
   ],
   "source": [
    "print('Shape of eigen vectors = ',vectors.shape)"
   ]
  },
  {
   "cell_type": "code",
   "execution_count": 9,
   "metadata": {},
   "outputs": [],
   "source": [
    "vectors = vectors.T"
   ]
  },
  {
   "cell_type": "code",
   "execution_count": 10,
   "metadata": {},
   "outputs": [
    {
     "name": "stdout",
     "output_type": "stream",
     "text": [
      "Updated shape of eigen vectors =  (50, 784)\n"
     ]
    }
   ],
   "source": [
    "print('Updated shape of eigen vectors = ',vectors.shape)"
   ]
  },
  {
   "cell_type": "code",
   "execution_count": 11,
   "metadata": {},
   "outputs": [],
   "source": [
    "import matplotlib.pyplot as plt\n",
    "new_coordinates0 = np.matmul(vectors, train_data.T)"
   ]
  },
  {
   "cell_type": "code",
   "execution_count": 12,
   "metadata": {},
   "outputs": [
    {
     "name": "stdout",
     "output_type": "stream",
     "text": [
      "(60000, 51)\n"
     ]
    }
   ],
   "source": [
    "import pandas as pd\n",
    "new_coordinates = np.vstack((new_coordinates0,train_y)).T\n",
    "print(new_coordinates.shape)"
   ]
  },
  {
   "cell_type": "code",
   "execution_count": 13,
   "metadata": {},
   "outputs": [
    {
     "name": "stdout",
     "output_type": "stream",
     "text": [
      "(60000, 51)\n"
     ]
    }
   ],
   "source": [
    "df2 = pd.DataFrame(data=new_coordinates)\n",
    "print(df2.shape)"
   ]
  },
  {
   "cell_type": "code",
   "execution_count": 35,
   "metadata": {},
   "outputs": [
    {
     "data": {
      "text/html": [
       "<div>\n",
       "<style scoped>\n",
       "    .dataframe tbody tr th:only-of-type {\n",
       "        vertical-align: middle;\n",
       "    }\n",
       "\n",
       "    .dataframe tbody tr th {\n",
       "        vertical-align: top;\n",
       "    }\n",
       "\n",
       "    .dataframe thead th {\n",
       "        text-align: right;\n",
       "    }\n",
       "</style>\n",
       "<table border=\"1\" class=\"dataframe\">\n",
       "  <thead>\n",
       "    <tr style=\"text-align: right;\">\n",
       "      <th></th>\n",
       "      <th>0</th>\n",
       "      <th>1</th>\n",
       "      <th>2</th>\n",
       "      <th>3</th>\n",
       "      <th>4</th>\n",
       "      <th>5</th>\n",
       "      <th>6</th>\n",
       "      <th>7</th>\n",
       "      <th>8</th>\n",
       "      <th>9</th>\n",
       "      <th>...</th>\n",
       "      <th>41</th>\n",
       "      <th>42</th>\n",
       "      <th>43</th>\n",
       "      <th>44</th>\n",
       "      <th>45</th>\n",
       "      <th>46</th>\n",
       "      <th>47</th>\n",
       "      <th>48</th>\n",
       "      <th>49</th>\n",
       "      <th>50</th>\n",
       "    </tr>\n",
       "  </thead>\n",
       "  <tbody>\n",
       "    <tr>\n",
       "      <th>0</th>\n",
       "      <td>-0.084946</td>\n",
       "      <td>3.363448</td>\n",
       "      <td>-0.219247</td>\n",
       "      <td>0.104338</td>\n",
       "      <td>-2.638280</td>\n",
       "      <td>2.050031</td>\n",
       "      <td>2.188262</td>\n",
       "      <td>-2.046510</td>\n",
       "      <td>-1.981558</td>\n",
       "      <td>-1.475160</td>\n",
       "      <td>...</td>\n",
       "      <td>-1.052314</td>\n",
       "      <td>-1.393473</td>\n",
       "      <td>-0.336139</td>\n",
       "      <td>-0.951616</td>\n",
       "      <td>-0.985347</td>\n",
       "      <td>8.051329</td>\n",
       "      <td>-0.067560</td>\n",
       "      <td>-4.814790</td>\n",
       "      <td>-0.922159</td>\n",
       "      <td>5.0</td>\n",
       "    </tr>\n",
       "    <tr>\n",
       "      <th>1</th>\n",
       "      <td>1.268250</td>\n",
       "      <td>0.406323</td>\n",
       "      <td>0.775051</td>\n",
       "      <td>-0.360583</td>\n",
       "      <td>0.745531</td>\n",
       "      <td>1.268478</td>\n",
       "      <td>0.233061</td>\n",
       "      <td>1.086760</td>\n",
       "      <td>0.121484</td>\n",
       "      <td>1.756084</td>\n",
       "      <td>...</td>\n",
       "      <td>-0.198393</td>\n",
       "      <td>-3.135456</td>\n",
       "      <td>0.272279</td>\n",
       "      <td>5.144664</td>\n",
       "      <td>0.834795</td>\n",
       "      <td>1.668321</td>\n",
       "      <td>3.447910</td>\n",
       "      <td>-7.754403</td>\n",
       "      <td>8.708977</td>\n",
       "      <td>0.0</td>\n",
       "    </tr>\n",
       "    <tr>\n",
       "      <th>2</th>\n",
       "      <td>1.441632</td>\n",
       "      <td>-5.109337</td>\n",
       "      <td>-0.820063</td>\n",
       "      <td>2.340011</td>\n",
       "      <td>2.713563</td>\n",
       "      <td>-2.417268</td>\n",
       "      <td>1.473883</td>\n",
       "      <td>4.666628</td>\n",
       "      <td>7.306954</td>\n",
       "      <td>-1.879901</td>\n",
       "      <td>...</td>\n",
       "      <td>2.170118</td>\n",
       "      <td>-3.992473</td>\n",
       "      <td>-18.691539</td>\n",
       "      <td>-2.291390</td>\n",
       "      <td>4.092456</td>\n",
       "      <td>-1.725066</td>\n",
       "      <td>6.184114</td>\n",
       "      <td>9.431338</td>\n",
       "      <td>2.328389</td>\n",
       "      <td>4.0</td>\n",
       "    </tr>\n",
       "    <tr>\n",
       "      <th>3</th>\n",
       "      <td>0.215556</td>\n",
       "      <td>0.351833</td>\n",
       "      <td>-0.064618</td>\n",
       "      <td>-1.259928</td>\n",
       "      <td>0.617940</td>\n",
       "      <td>0.772846</td>\n",
       "      <td>0.554524</td>\n",
       "      <td>-0.513546</td>\n",
       "      <td>-0.474883</td>\n",
       "      <td>0.621118</td>\n",
       "      <td>...</td>\n",
       "      <td>-0.624820</td>\n",
       "      <td>4.600462</td>\n",
       "      <td>-1.561415</td>\n",
       "      <td>-3.461544</td>\n",
       "      <td>5.627325</td>\n",
       "      <td>0.461041</td>\n",
       "      <td>-3.690851</td>\n",
       "      <td>-3.746318</td>\n",
       "      <td>-6.582173</td>\n",
       "      <td>1.0</td>\n",
       "    </tr>\n",
       "    <tr>\n",
       "      <th>4</th>\n",
       "      <td>0.420228</td>\n",
       "      <td>0.872258</td>\n",
       "      <td>-0.964023</td>\n",
       "      <td>-2.008459</td>\n",
       "      <td>0.364974</td>\n",
       "      <td>2.400800</td>\n",
       "      <td>1.216506</td>\n",
       "      <td>0.128289</td>\n",
       "      <td>-0.387970</td>\n",
       "      <td>0.188496</td>\n",
       "      <td>...</td>\n",
       "      <td>0.012948</td>\n",
       "      <td>3.206010</td>\n",
       "      <td>0.580065</td>\n",
       "      <td>0.612565</td>\n",
       "      <td>-1.608842</td>\n",
       "      <td>-1.459654</td>\n",
       "      <td>6.277947</td>\n",
       "      <td>3.133297</td>\n",
       "      <td>-5.183251</td>\n",
       "      <td>9.0</td>\n",
       "    </tr>\n",
       "    <tr>\n",
       "      <th>...</th>\n",
       "      <td>...</td>\n",
       "      <td>...</td>\n",
       "      <td>...</td>\n",
       "      <td>...</td>\n",
       "      <td>...</td>\n",
       "      <td>...</td>\n",
       "      <td>...</td>\n",
       "      <td>...</td>\n",
       "      <td>...</td>\n",
       "      <td>...</td>\n",
       "      <td>...</td>\n",
       "      <td>...</td>\n",
       "      <td>...</td>\n",
       "      <td>...</td>\n",
       "      <td>...</td>\n",
       "      <td>...</td>\n",
       "      <td>...</td>\n",
       "      <td>...</td>\n",
       "      <td>...</td>\n",
       "      <td>...</td>\n",
       "      <td>...</td>\n",
       "    </tr>\n",
       "    <tr>\n",
       "      <th>59995</th>\n",
       "      <td>0.881929</td>\n",
       "      <td>1.145690</td>\n",
       "      <td>0.377981</td>\n",
       "      <td>2.161909</td>\n",
       "      <td>1.846106</td>\n",
       "      <td>0.282380</td>\n",
       "      <td>1.623903</td>\n",
       "      <td>0.538163</td>\n",
       "      <td>0.315564</td>\n",
       "      <td>-0.513245</td>\n",
       "      <td>...</td>\n",
       "      <td>-1.569236</td>\n",
       "      <td>3.662751</td>\n",
       "      <td>0.222213</td>\n",
       "      <td>-2.901570</td>\n",
       "      <td>-0.645579</td>\n",
       "      <td>4.688222</td>\n",
       "      <td>-0.375261</td>\n",
       "      <td>-5.119129</td>\n",
       "      <td>-2.039339</td>\n",
       "      <td>8.0</td>\n",
       "    </tr>\n",
       "    <tr>\n",
       "      <th>59996</th>\n",
       "      <td>-1.680356</td>\n",
       "      <td>-1.589847</td>\n",
       "      <td>2.196788</td>\n",
       "      <td>0.320174</td>\n",
       "      <td>1.315994</td>\n",
       "      <td>-0.407490</td>\n",
       "      <td>-0.838401</td>\n",
       "      <td>-0.116931</td>\n",
       "      <td>0.831067</td>\n",
       "      <td>0.464824</td>\n",
       "      <td>...</td>\n",
       "      <td>-7.245211</td>\n",
       "      <td>-0.924782</td>\n",
       "      <td>-3.967956</td>\n",
       "      <td>-1.240176</td>\n",
       "      <td>-1.009540</td>\n",
       "      <td>8.397312</td>\n",
       "      <td>-3.507305</td>\n",
       "      <td>-6.498440</td>\n",
       "      <td>0.607841</td>\n",
       "      <td>3.0</td>\n",
       "    </tr>\n",
       "    <tr>\n",
       "      <th>59997</th>\n",
       "      <td>1.673411</td>\n",
       "      <td>1.285859</td>\n",
       "      <td>1.360945</td>\n",
       "      <td>0.601647</td>\n",
       "      <td>0.205250</td>\n",
       "      <td>-1.435252</td>\n",
       "      <td>1.665739</td>\n",
       "      <td>-0.555149</td>\n",
       "      <td>0.635605</td>\n",
       "      <td>-1.703291</td>\n",
       "      <td>...</td>\n",
       "      <td>2.734803</td>\n",
       "      <td>2.475236</td>\n",
       "      <td>-1.697904</td>\n",
       "      <td>2.879084</td>\n",
       "      <td>-1.361753</td>\n",
       "      <td>7.503987</td>\n",
       "      <td>3.806199</td>\n",
       "      <td>-3.230564</td>\n",
       "      <td>-3.777212</td>\n",
       "      <td>5.0</td>\n",
       "    </tr>\n",
       "    <tr>\n",
       "      <th>59998</th>\n",
       "      <td>0.802732</td>\n",
       "      <td>-1.426491</td>\n",
       "      <td>0.492740</td>\n",
       "      <td>1.253039</td>\n",
       "      <td>-1.042127</td>\n",
       "      <td>-0.988343</td>\n",
       "      <td>2.940759</td>\n",
       "      <td>5.056170</td>\n",
       "      <td>-1.460780</td>\n",
       "      <td>-1.027916</td>\n",
       "      <td>...</td>\n",
       "      <td>2.749771</td>\n",
       "      <td>-3.799631</td>\n",
       "      <td>-3.642969</td>\n",
       "      <td>5.067463</td>\n",
       "      <td>-0.925236</td>\n",
       "      <td>-7.150954</td>\n",
       "      <td>-0.006951</td>\n",
       "      <td>-4.948125</td>\n",
       "      <td>1.722369</td>\n",
       "      <td>6.0</td>\n",
       "    </tr>\n",
       "    <tr>\n",
       "      <th>59999</th>\n",
       "      <td>1.874703</td>\n",
       "      <td>-1.591666</td>\n",
       "      <td>0.704323</td>\n",
       "      <td>1.355870</td>\n",
       "      <td>0.239843</td>\n",
       "      <td>0.882519</td>\n",
       "      <td>-1.768025</td>\n",
       "      <td>-2.505402</td>\n",
       "      <td>-2.561439</td>\n",
       "      <td>-0.522008</td>\n",
       "      <td>...</td>\n",
       "      <td>3.675919</td>\n",
       "      <td>2.025046</td>\n",
       "      <td>0.356855</td>\n",
       "      <td>-2.797523</td>\n",
       "      <td>3.498215</td>\n",
       "      <td>0.392173</td>\n",
       "      <td>2.967687</td>\n",
       "      <td>-6.175386</td>\n",
       "      <td>-1.427251</td>\n",
       "      <td>8.0</td>\n",
       "    </tr>\n",
       "  </tbody>\n",
       "</table>\n",
       "<p>60000 rows × 51 columns</p>\n",
       "</div>"
      ],
      "text/plain": [
       "             0         1         2         3         4         5         6   \\\n",
       "0     -0.084946  3.363448 -0.219247  0.104338 -2.638280  2.050031  2.188262   \n",
       "1      1.268250  0.406323  0.775051 -0.360583  0.745531  1.268478  0.233061   \n",
       "2      1.441632 -5.109337 -0.820063  2.340011  2.713563 -2.417268  1.473883   \n",
       "3      0.215556  0.351833 -0.064618 -1.259928  0.617940  0.772846  0.554524   \n",
       "4      0.420228  0.872258 -0.964023 -2.008459  0.364974  2.400800  1.216506   \n",
       "...         ...       ...       ...       ...       ...       ...       ...   \n",
       "59995  0.881929  1.145690  0.377981  2.161909  1.846106  0.282380  1.623903   \n",
       "59996 -1.680356 -1.589847  2.196788  0.320174  1.315994 -0.407490 -0.838401   \n",
       "59997  1.673411  1.285859  1.360945  0.601647  0.205250 -1.435252  1.665739   \n",
       "59998  0.802732 -1.426491  0.492740  1.253039 -1.042127 -0.988343  2.940759   \n",
       "59999  1.874703 -1.591666  0.704323  1.355870  0.239843  0.882519 -1.768025   \n",
       "\n",
       "             7         8         9   ...        41        42         43  \\\n",
       "0     -2.046510 -1.981558 -1.475160  ... -1.052314 -1.393473  -0.336139   \n",
       "1      1.086760  0.121484  1.756084  ... -0.198393 -3.135456   0.272279   \n",
       "2      4.666628  7.306954 -1.879901  ...  2.170118 -3.992473 -18.691539   \n",
       "3     -0.513546 -0.474883  0.621118  ... -0.624820  4.600462  -1.561415   \n",
       "4      0.128289 -0.387970  0.188496  ...  0.012948  3.206010   0.580065   \n",
       "...         ...       ...       ...  ...       ...       ...        ...   \n",
       "59995  0.538163  0.315564 -0.513245  ... -1.569236  3.662751   0.222213   \n",
       "59996 -0.116931  0.831067  0.464824  ... -7.245211 -0.924782  -3.967956   \n",
       "59997 -0.555149  0.635605 -1.703291  ...  2.734803  2.475236  -1.697904   \n",
       "59998  5.056170 -1.460780 -1.027916  ...  2.749771 -3.799631  -3.642969   \n",
       "59999 -2.505402 -2.561439 -0.522008  ...  3.675919  2.025046   0.356855   \n",
       "\n",
       "             44        45        46        47        48        49   50  \n",
       "0     -0.951616 -0.985347  8.051329 -0.067560 -4.814790 -0.922159  5.0  \n",
       "1      5.144664  0.834795  1.668321  3.447910 -7.754403  8.708977  0.0  \n",
       "2     -2.291390  4.092456 -1.725066  6.184114  9.431338  2.328389  4.0  \n",
       "3     -3.461544  5.627325  0.461041 -3.690851 -3.746318 -6.582173  1.0  \n",
       "4      0.612565 -1.608842 -1.459654  6.277947  3.133297 -5.183251  9.0  \n",
       "...         ...       ...       ...       ...       ...       ...  ...  \n",
       "59995 -2.901570 -0.645579  4.688222 -0.375261 -5.119129 -2.039339  8.0  \n",
       "59996 -1.240176 -1.009540  8.397312 -3.507305 -6.498440  0.607841  3.0  \n",
       "59997  2.879084 -1.361753  7.503987  3.806199 -3.230564 -3.777212  5.0  \n",
       "59998  5.067463 -0.925236 -7.150954 -0.006951 -4.948125  1.722369  6.0  \n",
       "59999 -2.797523  3.498215  0.392173  2.967687 -6.175386 -1.427251  8.0  \n",
       "\n",
       "[60000 rows x 51 columns]"
      ]
     },
     "execution_count": 35,
     "metadata": {},
     "output_type": "execute_result"
    }
   ],
   "source": [
    "df2"
   ]
  },
  {
   "cell_type": "code",
   "execution_count": 18,
   "metadata": {},
   "outputs": [
    {
     "name": "stdout",
     "output_type": "stream",
     "text": [
      "[t-SNE] Computing 121 nearest neighbors...\n",
      "[t-SNE] Indexed 60000 samples in 0.846s...\n",
      "[t-SNE] Computed neighbors for 60000 samples in 406.169s...\n",
      "[t-SNE] Computed conditional probabilities for sample 1000 / 60000\n",
      "[t-SNE] Computed conditional probabilities for sample 2000 / 60000\n",
      "[t-SNE] Computed conditional probabilities for sample 3000 / 60000\n",
      "[t-SNE] Computed conditional probabilities for sample 4000 / 60000\n",
      "[t-SNE] Computed conditional probabilities for sample 5000 / 60000\n",
      "[t-SNE] Computed conditional probabilities for sample 6000 / 60000\n",
      "[t-SNE] Computed conditional probabilities for sample 7000 / 60000\n",
      "[t-SNE] Computed conditional probabilities for sample 8000 / 60000\n",
      "[t-SNE] Computed conditional probabilities for sample 9000 / 60000\n",
      "[t-SNE] Computed conditional probabilities for sample 10000 / 60000\n",
      "[t-SNE] Computed conditional probabilities for sample 11000 / 60000\n",
      "[t-SNE] Computed conditional probabilities for sample 12000 / 60000\n",
      "[t-SNE] Computed conditional probabilities for sample 13000 / 60000\n",
      "[t-SNE] Computed conditional probabilities for sample 14000 / 60000\n",
      "[t-SNE] Computed conditional probabilities for sample 15000 / 60000\n",
      "[t-SNE] Computed conditional probabilities for sample 16000 / 60000\n",
      "[t-SNE] Computed conditional probabilities for sample 17000 / 60000\n",
      "[t-SNE] Computed conditional probabilities for sample 18000 / 60000\n",
      "[t-SNE] Computed conditional probabilities for sample 19000 / 60000\n",
      "[t-SNE] Computed conditional probabilities for sample 20000 / 60000\n",
      "[t-SNE] Computed conditional probabilities for sample 21000 / 60000\n",
      "[t-SNE] Computed conditional probabilities for sample 22000 / 60000\n",
      "[t-SNE] Computed conditional probabilities for sample 23000 / 60000\n",
      "[t-SNE] Computed conditional probabilities for sample 24000 / 60000\n",
      "[t-SNE] Computed conditional probabilities for sample 25000 / 60000\n",
      "[t-SNE] Computed conditional probabilities for sample 26000 / 60000\n",
      "[t-SNE] Computed conditional probabilities for sample 27000 / 60000\n",
      "[t-SNE] Computed conditional probabilities for sample 28000 / 60000\n",
      "[t-SNE] Computed conditional probabilities for sample 29000 / 60000\n",
      "[t-SNE] Computed conditional probabilities for sample 30000 / 60000\n",
      "[t-SNE] Computed conditional probabilities for sample 31000 / 60000\n",
      "[t-SNE] Computed conditional probabilities for sample 32000 / 60000\n",
      "[t-SNE] Computed conditional probabilities for sample 33000 / 60000\n",
      "[t-SNE] Computed conditional probabilities for sample 34000 / 60000\n",
      "[t-SNE] Computed conditional probabilities for sample 35000 / 60000\n",
      "[t-SNE] Computed conditional probabilities for sample 36000 / 60000\n",
      "[t-SNE] Computed conditional probabilities for sample 37000 / 60000\n",
      "[t-SNE] Computed conditional probabilities for sample 38000 / 60000\n",
      "[t-SNE] Computed conditional probabilities for sample 39000 / 60000\n",
      "[t-SNE] Computed conditional probabilities for sample 40000 / 60000\n",
      "[t-SNE] Computed conditional probabilities for sample 41000 / 60000\n",
      "[t-SNE] Computed conditional probabilities for sample 42000 / 60000\n",
      "[t-SNE] Computed conditional probabilities for sample 43000 / 60000\n",
      "[t-SNE] Computed conditional probabilities for sample 44000 / 60000\n",
      "[t-SNE] Computed conditional probabilities for sample 45000 / 60000\n",
      "[t-SNE] Computed conditional probabilities for sample 46000 / 60000\n",
      "[t-SNE] Computed conditional probabilities for sample 47000 / 60000\n",
      "[t-SNE] Computed conditional probabilities for sample 48000 / 60000\n",
      "[t-SNE] Computed conditional probabilities for sample 49000 / 60000\n",
      "[t-SNE] Computed conditional probabilities for sample 50000 / 60000\n",
      "[t-SNE] Computed conditional probabilities for sample 51000 / 60000\n",
      "[t-SNE] Computed conditional probabilities for sample 52000 / 60000\n",
      "[t-SNE] Computed conditional probabilities for sample 53000 / 60000\n",
      "[t-SNE] Computed conditional probabilities for sample 54000 / 60000\n",
      "[t-SNE] Computed conditional probabilities for sample 55000 / 60000\n",
      "[t-SNE] Computed conditional probabilities for sample 56000 / 60000\n",
      "[t-SNE] Computed conditional probabilities for sample 57000 / 60000\n",
      "[t-SNE] Computed conditional probabilities for sample 58000 / 60000\n",
      "[t-SNE] Computed conditional probabilities for sample 59000 / 60000\n",
      "[t-SNE] Computed conditional probabilities for sample 60000 / 60000\n",
      "[t-SNE] Mean sigma: 2.932091\n",
      "[t-SNE] KL divergence after 250 iterations with early exaggeration: 94.913925\n",
      "[t-SNE] KL divergence after 300 iterations: 4.826640\n"
     ]
    }
   ],
   "source": [
    "from sklearn.manifold import TSNE\n",
    "tsne = TSNE(n_components=2, verbose=1, perplexity=40, n_iter=300)\n",
    "tsne_results = tsne.fit_transform(df2)"
   ]
  },
  {
   "cell_type": "code",
   "execution_count": 20,
   "metadata": {},
   "outputs": [
    {
     "data": {
      "text/plain": [
       "(60000, 2)"
      ]
     },
     "execution_count": 20,
     "metadata": {},
     "output_type": "execute_result"
    }
   ],
   "source": [
    "tsne_results.shape"
   ]
  },
  {
   "cell_type": "code",
   "execution_count": 21,
   "metadata": {},
   "outputs": [
    {
     "data": {
      "text/plain": [
       "array([[ 3.0447574 ,  0.76323724],\n",
       "       [ 5.646128  , -0.30922   ],\n",
       "       [-2.034686  , -2.8279903 ],\n",
       "       ...,\n",
       "       [ 2.8332343 ,  1.810448  ],\n",
       "       [ 4.1450524 , -1.6562524 ],\n",
       "       [ 1.6257261 ,  3.679802  ]], dtype=float32)"
      ]
     },
     "execution_count": 21,
     "metadata": {},
     "output_type": "execute_result"
    }
   ],
   "source": [
    "tsne_results"
   ]
  },
  {
   "cell_type": "code",
   "execution_count": 33,
   "metadata": {},
   "outputs": [
    {
     "data": {
      "text/plain": [
       "(60000, 2)"
      ]
     },
     "execution_count": 33,
     "metadata": {},
     "output_type": "execute_result"
    }
   ],
   "source": [
    "tsne_results.shape"
   ]
  },
  {
   "cell_type": "code",
   "execution_count": 38,
   "metadata": {},
   "outputs": [
    {
     "name": "stdout",
     "output_type": "stream",
     "text": [
      "(60000, 3)\n"
     ]
    }
   ],
   "source": [
    "import pandas as pd\n",
    "new_coordinates3 = np.vstack((tsne_results.T,df2[50])).T\n",
    "print(new_coordinates3.shape)"
   ]
  },
  {
   "cell_type": "code",
   "execution_count": 39,
   "metadata": {},
   "outputs": [
    {
     "name": "stdout",
     "output_type": "stream",
     "text": [
      "   1st_principal  2nd_principal  label\n",
      "0       3.044757       0.763237    5.0\n",
      "1       5.646128      -0.309220    0.0\n",
      "2      -2.034686      -2.827990    4.0\n",
      "3       0.683300       5.469503    1.0\n",
      "4      -3.352384      -1.636377    9.0\n"
     ]
    }
   ],
   "source": [
    "dataframe3 = pd.DataFrame(data=new_coordinates3, columns=('1st_principal', '2nd_principal', 'label'))\n",
    "print(dataframe3.head())"
   ]
  },
  {
   "cell_type": "code",
   "execution_count": 40,
   "metadata": {},
   "outputs": [
    {
     "name": "stderr",
     "output_type": "stream",
     "text": [
      "C:\\Users\\Dante\\Desktop\\ML\\sample\\env\\lib\\site-packages\\seaborn\\axisgrid.py:316: UserWarning: The `size` parameter has been renamed to `height`; please update your code.\n",
      "  warnings.warn(msg, UserWarning)\n"
     ]
    },
    {
     "data": {
      "image/png": "[encoded data removed]",
      "text/plain": [
       "<Figure size 484x432 with 1 Axes>"
      ]
     },
     "metadata": {
      "needs_background": "light"
     },
     "output_type": "display_data"
    }
   ],
   "source": [
    "import seaborn as sn\n",
    "sn.FacetGrid(dataframe3, hue='label', size=6).map(plt.scatter, '1st_principal', '2nd_principal').add_legend()\n",
    "plt.show()"
   ]
  },
  {
   "cell_type": "code",
   "execution_count": null,
   "metadata": {},
   "outputs": [],
   "source": []
  }
 ],
 "metadata": {
  "kernelspec": {
   "display_name": "Python 3 (ipykernel)",
   "language": "python",
   "name": "python3"
  },
  "language_info": {
   "codemirror_mode": {
    "name": "ipython",
    "version": 3
   },
   "file_extension": ".py",
   "mimetype": "text/x-python",
   "name": "python",
   "nbconvert_exporter": "python",
   "pygments_lexer": "ipython3",
   "version": "3.8.11"
  }
 },
 "nbformat": 4,
 "nbformat_minor": 4
}
